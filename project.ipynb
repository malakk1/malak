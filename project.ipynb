{
  "nbformat": 4,
  "nbformat_minor": 0,
  "metadata": {
    "colab": {
      "name": "project.ipynb",
      "provenance": []
    },
    "kernelspec": {
      "name": "python3",
      "display_name": "Python 3"
    },
    "language_info": {
      "name": "python"
    }
  },
  "cells": [
    {
      "cell_type": "code",
      "execution_count": null,
      "metadata": {
        "id": "lvOte-fo95Ts"
      },
      "outputs": [],
      "source": [
        "import warnings\n",
        "warnings.filterwarnings('ignore')\n",
        "\n",
        "\n",
        "import pandas as pd\n",
        "import numpy as np\n",
        "\n",
        "import seaborn as sns\n",
        "import matplotlib.pyplot as plt\n",
        "\n",
        "from sklearn.linear_model import LogisticRegression\n",
        "\n",
        "from sklearn.metrics import accuracy_score, recall_score, precision_score, f1_score\n",
        "from sklearn.metrics import confusion_matrix, classification_report\n",
        "from sklearn.metrics import precision_recall_curve, auc, average_precision_score\n"
      ]
    },
    {
      "cell_type": "code",
      "source": [
        "from google.colab import drive\n",
        "drive.mount('/content/MyDrive')"
      ],
      "metadata": {
        "colab": {
          "base_uri": "https://localhost:8080/"
        },
        "id": "0KctHH9y-BEH",
        "outputId": "d4dd2928-1b23-4d83-ffab-9aec337550b9"
      },
      "execution_count": null,
      "outputs": [
        {
          "output_type": "stream",
          "name": "stdout",
          "text": [
            "Mounted at /content/MyDrive\n"
          ]
        }
      ]
    },
    {
      "cell_type": "code",
      "source": [
        "data = pd.read_csv('/content/MyDrive/MyDrive/AIinBusiness/Date_Fruit_Datasets.csv')"
      ],
      "metadata": {
        "id": "UBv86WOA-Jjo"
      },
      "execution_count": null,
      "outputs": []
    },
    {
      "cell_type": "code",
      "source": [
        "data.head"
      ],
      "metadata": {
        "id": "OYGSzgGn-TEq"
      },
      "execution_count": null,
      "outputs": []
    },
    {
      "cell_type": "code",
      "source": [
        "data.dtypes"
      ],
      "metadata": {
        "id": "6MleoMep-ZSB"
      },
      "execution_count": null,
      "outputs": []
    },
    {
      "cell_type": "code",
      "source": [
        "data.Class.unique()"
      ],
      "metadata": {
        "id": "oXPIA5jF-fTz"
      },
      "execution_count": null,
      "outputs": []
    },
    {
      "cell_type": "markdown",
      "source": [
        "**convert catogrical data to numeric**"
      ],
      "metadata": {
        "id": "ronVvXQEDh-_"
      }
    },
    {
      "cell_type": "code",
      "source": [
        "from sklearn.preprocessing import LabelEncoder\n",
        "le = LabelEncoder()\n",
        "data['Class'] = le.fit_transform(data['Class'])\n",
        "data['Class']"
      ],
      "metadata": {
        "id": "rsugRv6p-mWU"
      },
      "execution_count": null,
      "outputs": []
    },
    {
      "cell_type": "code",
      "source": [
        "data.dtypes"
      ],
      "metadata": {
        "id": "_fdxb5Q4-tdM"
      },
      "execution_count": null,
      "outputs": []
    },
    {
      "cell_type": "markdown",
      "source": [
        "**split dataset into train and test**"
      ],
      "metadata": {
        "id": "Ld86aVCYEJd8"
      }
    },
    {
      "cell_type": "code",
      "source": [
        "from sklearn.model_selection import train_test_split\n",
        "train, test = train_test_split(data, test_size=0.2)\n",
        "print(train.head())\n",
        "print(train.shape)\n",
        "print(test.head())\n",
        "print(test.shape)"
      ],
      "metadata": {
        "id": "8g41u5nL-0MC"
      },
      "execution_count": null,
      "outputs": []
    },
    {
      "cell_type": "code",
      "source": [
        "# remove target column to create feature only dataset\n",
        "X_train = train.drop('Class', 1)\n",
        "X_test = test.drop('Class', 1)\n",
        "\n",
        "# store target column\n",
        "y_train = train['Class']\n",
        "y_test = test['Class']\n",
        "\n",
        "print(X_train.shape, y_train.shape, X_test.shape, y_test.shape)\n",
        "X_train.columns\n"
      ],
      "metadata": {
        "id": "0tWWKETZ_D0O"
      },
      "execution_count": null,
      "outputs": []
    },
    {
      "cell_type": "code",
      "source": [
        "data.columns"
      ],
      "metadata": {
        "id": "Pex5du7r_MsV"
      },
      "execution_count": null,
      "outputs": []
    },
    {
      "cell_type": "markdown",
      "source": [
        "**dataset normlaiztion**"
      ],
      "metadata": {
        "id": "IADq_8yLEciG"
      }
    },
    {
      "cell_type": "code",
      "source": [
        "from sklearn import preprocessing\n",
        "d = preprocessing.normalize(data)\n",
        "scaled_df = pd.DataFrame(d, columns=['AREA', 'PERIMETER', 'MAJOR_AXIS', 'MINOR_AXIS', 'ECCENTRICITY',\n",
        "       'EQDIASQ', 'SOLIDITY', 'CONVEX_AREA', 'EXTENT', 'ASPECT_RATIO',\n",
        "       'ROUNDNESS', 'COMPACTNESS', 'SHAPEFACTOR_1', 'SHAPEFACTOR_2',\n",
        "       'SHAPEFACTOR_3', 'SHAPEFACTOR_4', 'MeanRR', 'MeanRG', 'MeanRB',\n",
        "       'StdDevRR', 'StdDevRG', 'StdDevRB', 'SkewRR', 'SkewRG', 'SkewRB',\n",
        "       'KurtosisRR', 'KurtosisRG', 'KurtosisRB', 'EntropyRR', 'EntropyRG',\n",
        "       'EntropyRB', 'ALLdaub4RR', 'ALLdaub4RG', 'ALLdaub4RB', 'Class'])\n",
        "scaled_df.head()"
      ],
      "metadata": {
        "id": "66rIYBME_Sav"
      },
      "execution_count": null,
      "outputs": []
    },
    {
      "cell_type": "code",
      "source": [
        "freq = y_train.value_counts()           # count frequency of different classes in Class\n",
        "freq/sum(freq)*100 "
      ],
      "metadata": {
        "id": "wqTj8AsY_gXq"
      },
      "execution_count": null,
      "outputs": []
    },
    {
      "cell_type": "markdown",
      "source": [
        "**logistic regression**"
      ],
      "metadata": {
        "id": "hCIB7UA7ErkA"
      }
    },
    {
      "cell_type": "code",
      "source": [
        "lgstc_reg =  LogisticRegression(penalty=\"none\", solver='newton-cg')     # create an instance of logistic regression\n",
        "\n",
        "lgstc_reg.fit(X_train, y_train)                                                             # fit training data on logistic regression \n",
        "\n",
        "print(lgstc_reg.intercept_, lgstc_reg.coef_)                                                # get the coefficients of each features"
      ],
      "metadata": {
        "id": "IlsI7YAx_p55"
      },
      "execution_count": null,
      "outputs": []
    },
    {
      "cell_type": "code",
      "source": [
        "y_pred = lgstc_reg.predict(X_test)                           # predict based on test data set\n",
        "\n",
        "acc = accuracy_score(y_test, y_pred)                         # check the accuracy of the model\n",
        "\n",
        "print('accuracy of logistic regression model=%.3f' % (acc) )"
      ],
      "metadata": {
        "colab": {
          "base_uri": "https://localhost:8080/"
        },
        "id": "85ngOnkT_tDB",
        "outputId": "7c57917c-586e-4a12-c6e7-b94e7e3303bc"
      },
      "execution_count": null,
      "outputs": [
        {
          "output_type": "stream",
          "name": "stdout",
          "text": [
            "accuracy of logistic regression model=0.650\n"
          ]
        }
      ]
    },
    {
      "cell_type": "markdown",
      "source": [
        "**Decision tree**"
      ],
      "metadata": {
        "id": "z3vm4J7IFLjN"
      }
    },
    {
      "cell_type": "code",
      "source": [
        "from sklearn import tree\n",
        "clf = tree.DecisionTreeClassifier()\n",
        "clf = clf.fit(X_train, y_train)"
      ],
      "metadata": {
        "id": "ctqyGgFY_2Au"
      },
      "execution_count": null,
      "outputs": []
    },
    {
      "cell_type": "code",
      "source": [
        "predictions = clf.predict(X_test)\n",
        "print(predictions)"
      ],
      "metadata": {
        "colab": {
          "base_uri": "https://localhost:8080/"
        },
        "id": "cK_9oBGeAEHg",
        "outputId": "7f190a06-7029-4122-a716-583cb7867f08"
      },
      "execution_count": null,
      "outputs": [
        {
          "output_type": "stream",
          "name": "stdout",
          "text": [
            "[1 6 0 4 3 0 5 4 5 4 5 6 1 3 2 1 4 0 4 5 2 4 1 4 3 0 4 4 5 5 3 1 3 0 6 1 2\n",
            " 6 5 5 3 5 6 1 2 1 1 1 0 2 4 5 4 2 3 6 6 6 2 5 2 1 2 1 2 3 6 3 2 6 2 5 2 6\n",
            " 2 2 4 2 3 4 2 4 6 3 4 2 1 3 6 5 5 5 3 6 2 1 1 5 4 5 3 5 3 5 1 2 4 1 5 5 5\n",
            " 6 5 0 5 5 2 4 5 5 6 2 2 4 4 4 5 4 4 4 1 0 4 5 5 2 5 2 4 5 1 2 4 4 2 4 2 1\n",
            " 4 4 1 4 5 0 4 1 6 3 0 5 2 2 2 6 4 2 6 4 5 6 4 5 0 0 1 2 5 4 6 5]\n"
          ]
        }
      ]
    },
    {
      "cell_type": "code",
      "source": [
        "accuracy =accuracy_score(y_test, predictions)\n",
        "print('accuracy for decision tree is {}'.format(accuracy))"
      ],
      "metadata": {
        "colab": {
          "base_uri": "https://localhost:8080/"
        },
        "id": "XKdu_FKGCvIQ",
        "outputId": "00d2a7a1-72dc-4dec-f709-a296227c058a"
      },
      "execution_count": null,
      "outputs": [
        {
          "output_type": "stream",
          "name": "stdout",
          "text": [
            "accuracy for decision tree is 0.7888888888888889\n"
          ]
        }
      ]
    }
  ]
}